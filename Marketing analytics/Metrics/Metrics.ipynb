{
  "nbformat": 4,
  "nbformat_minor": 0,
  "metadata": {
    "colab": {
      "provenance": [],
      "collapsed_sections": [
        "s2g2hxfMzqLo",
        "TbkdEVLI0Cor",
        "wxkhEVmF0PAo",
        "OrwoZ-wR0jJq"
      ],
      "include_colab_link": true
    },
    "kernelspec": {
      "name": "python3",
      "display_name": "Python 3"
    },
    "language_info": {
      "name": "python"
    }
  },
  "cells": [
    {
      "cell_type": "markdown",
      "metadata": {
        "id": "view-in-github",
        "colab_type": "text"
      },
      "source": [
        "<a href=\"https://colab.research.google.com/github/aleks-haksly/portfolio/blob/main/Marketing%20analytics/Metrics/Metrics.ipynb\" target=\"_parent\"><img src=\"https://colab.research.google.com/assets/colab-badge.svg\" alt=\"Open In Colab\"/></a>"
      ]
    },
    {
      "cell_type": "markdown",
      "source": [
        "## Расчитаем основные продуктовые метрики, связанные с активностью пользователей:\n",
        "\n",
        "* [retention](#retention)\n",
        "* [rolling retention](#rolling)\n",
        "* [lifetime](#lifetime)\n",
        "* [churn rate](#churn)\n",
        "* [mau](#mau), [wau](#wau), [dau](#dau)"
      ],
      "metadata": {
        "id": "T_xBU6WvyPhY"
      }
    },
    {
      "cell_type": "code",
      "execution_count": 1,
      "metadata": {
        "id": "3eJFMuMpyCp-"
      },
      "outputs": [],
      "source": [
        "!wget https://raw.githubusercontent.com/aleks-haksly/portfolio/refs/heads/main/Marketing%20analytics/Metrics/registrations.csv -q\n",
        "!wget https://raw.githubusercontent.com/aleks-haksly/portfolio/refs/heads/main/Marketing%20analytics/Metrics/entries.csv -q"
      ]
    },
    {
      "cell_type": "markdown",
      "source": [
        "Таблицами для для работы являются `registrations.csv` и `entries.csv`. В них хранятся данные о регистрациях пользователей и входа на платформу соответственно."
      ],
      "metadata": {
        "id": "vnMFicli7Fa7"
      }
    },
    {
      "cell_type": "markdown",
      "source": [
        "<a name='retention'></a>\n",
        "### 1 Посчитаем Retention 15 дня (в процентах) для пользователей, зарегистрированных в январе\n",
        "\n"
      ],
      "metadata": {
        "id": "s2g2hxfMzqLo"
      }
    },
    {
      "cell_type": "code",
      "source": [
        "import pandas as pd\n",
        "import seaborn as sns\n",
        "import matplotlib.pyplot as plt\n",
        "import numpy as np"
      ],
      "metadata": {
        "id": "hWQt4_IbLpdX"
      },
      "execution_count": null,
      "outputs": []
    },
    {
      "cell_type": "code",
      "source": [
        "# Для удобства объедини данные о пользователях в один DataFrame\n",
        "df_registrations = pd.read_csv('registrations.csv', sep=';', parse_dates=['registration_date'], index_col='user_id')\n",
        "df_entries = pd.read_csv('entries.csv', sep=';', parse_dates=['entry_date'], index_col='user_id')\n",
        "data = df_registrations.join(df_entries, how='left')"
      ],
      "metadata": {
        "id": "u5l9mm-vzpJ8"
      },
      "execution_count": null,
      "outputs": []
    },
    {
      "cell_type": "code",
      "source": [
        "data['15_day'] = data[\"registration_date\"] + pd.DateOffset(days=15) # Для кажого пользователя рассчитаем дату 15-го дня с момента регистрации\n",
        "data['active_on_15_day'] = (data[\"entry_date\"] == data[\"15_day\"]) # Проверяем, была ли активность пользователя в эту дату\n",
        "data.reset_index(inplace=True)\n",
        "# Удаляем лишние строки чтобы не учитывать несколько раз, когда пользователть был активен больше одного раза з в одну дату.\n",
        "data.drop_duplicates(subset=['user_id',\t'registration_date',\t'entry_date'], inplace=True)"
      ],
      "metadata": {
        "id": "3Ro3Nlb9PQKi"
      },
      "execution_count": null,
      "outputs": []
    },
    {
      "cell_type": "code",
      "source": [
        "# Отфильтруем данные, оставив только интересующую нас январскую когорту\n",
        "jan_cohort = data.query(\"registration_date >= '2021-01-01' and registration_date < '2021-02-01'\")[:]"
      ],
      "metadata": {
        "id": "fPNxhzOFuARB"
      },
      "execution_count": null,
      "outputs": []
    },
    {
      "cell_type": "code",
      "source": [
        "result = jan_cohort.groupby('registration_date', as_index=False).agg({\"user_id\": \"nunique\", \"active_on_15_day\": \"sum\"})"
      ],
      "metadata": {
        "id": "h6lUKcJ_Loai"
      },
      "execution_count": null,
      "outputs": []
    },
    {
      "cell_type": "code",
      "source": [
        "retention_15_day = round(result['active_on_15_day'].sum() / result['user_id'].sum(), 5)\n",
        "print(f'Retention 15 дня для пользователей, зарегистрированных в январе = {retention_15_day:.1%}')"
      ],
      "metadata": {
        "colab": {
          "base_uri": "https://localhost:8080/"
        },
        "id": "vFAfRoNBndQs",
        "outputId": "c46dd861-e36d-4f61-d550-dc6cbb2da6b2"
      },
      "execution_count": null,
      "outputs": [
        {
          "output_type": "stream",
          "name": "stdout",
          "text": [
            "Retention 15 дня для пользователей, зарегистрированных в январе = 54.7%\n"
          ]
        }
      ]
    },
    {
      "cell_type": "markdown",
      "source": [
        "<a name='rolling'></a>\n",
        "### 2 Посчитаем Rolling-retention 30 дня (в процентах) для пользователей из той же когорты\n"
      ],
      "metadata": {
        "id": "TbkdEVLI0Cor"
      }
    },
    {
      "cell_type": "code",
      "source": [
        "# Для удобства объедини данные о пользователях в один DataFrame\n",
        "df_registrations = pd.read_csv('registrations.csv', sep=';', parse_dates=['registration_date'], index_col='user_id')\n",
        "df_entries = pd.read_csv('entries.csv', sep=';', parse_dates=['entry_date'], index_col='user_id')\n",
        "data = df_registrations.join(df_entries, how='left')"
      ],
      "metadata": {
        "id": "AuMb0uGIvEBJ"
      },
      "execution_count": null,
      "outputs": []
    },
    {
      "cell_type": "code",
      "source": [
        "# для каждого пользователя найдем 30й день с момента регистрации\n",
        "data['30_day'] = data[\"registration_date\"] + pd.DateOffset(days=30)\n",
        "# найдем все случаи, когда пользователи были активны после 30 дня с момента регистрации\n",
        "data['active_after_30_day']  = (data[\"entry_date\"] >= data[\"30_day\"])\n",
        "data.reset_index(inplace=True)\n",
        "data.drop_duplicates(subset=['user_id',\t'active_after_30_day'], inplace=True)"
      ],
      "metadata": {
        "id": "keCBmUDJ0Hho"
      },
      "execution_count": null,
      "outputs": []
    },
    {
      "cell_type": "code",
      "source": [
        "# Отфильтруем данные, оставив только интересующую нас январскую когорту\n",
        "jan_cohort = data.query(\"registration_date >= '2021-01-01' and registration_date < '2021-02-01'\")[:]"
      ],
      "metadata": {
        "id": "R3i686e3vb_l"
      },
      "execution_count": null,
      "outputs": []
    },
    {
      "cell_type": "code",
      "source": [
        "rolling_retention = round(jan_cohort['active_after_30_day'].sum() / jan_cohort['user_id'].nunique(), 5)\n",
        "print(f' Rolling-retention 30 дня для пользователей, зарегистрированных в январе = {rolling_retention:.1%}')"
      ],
      "metadata": {
        "colab": {
          "base_uri": "https://localhost:8080/"
        },
        "id": "j19ZHdCMvsk6",
        "outputId": "466a050b-6a12-46bf-84c9-e8e1c57e7670"
      },
      "execution_count": null,
      "outputs": [
        {
          "output_type": "stream",
          "name": "stdout",
          "text": [
            " Rolling-retention 30 дня для пользователей, зарегистрированных в январе = 29.1%\n"
          ]
        }
      ]
    },
    {
      "cell_type": "markdown",
      "source": [
        "<a name='lifetime'></a>\n",
        "### 3 Посчитаем Lifetime по всем пользователям, посчитанный как интеграл от n-day retention"
      ],
      "metadata": {
        "id": "wxkhEVmF0PAo"
      }
    },
    {
      "cell_type": "code",
      "source": [
        "# объединим таблицы с данными о регистрации и активности пользователей и удалим дубликаты (случай, пользователь был активен несколо раз в течение дня)\n",
        "df_registrations = pd.read_csv('registrations.csv', sep=';', parse_dates=['registration_date'], index_col='user_id')\n",
        "df_entries = pd.read_csv('entries.csv', sep=';', parse_dates=['entry_date'], index_col='user_id')\n",
        "data = df_registrations.join(df_entries, how='left')\n",
        "data.reset_index(inplace=True)\n",
        "data.drop_duplicates(inplace=True)"
      ],
      "metadata": {
        "id": "KS17l5Ux0UD3"
      },
      "execution_count": null,
      "outputs": []
    },
    {
      "cell_type": "code",
      "source": [
        "data"
      ],
      "metadata": {
        "colab": {
          "base_uri": "https://localhost:8080/",
          "height": 423
        },
        "id": "Jw9vnf-QxzL0",
        "outputId": "ab688efd-3b61-40af-f3ff-92e52b6e93e1"
      },
      "execution_count": null,
      "outputs": [
        {
          "output_type": "execute_result",
          "data": {
            "text/plain": [
              "       user_id registration_date entry_date\n",
              "0            1        2021-01-01 2021-01-01\n",
              "1            1        2021-01-01 2021-01-03\n",
              "2            1        2021-01-01 2021-01-04\n",
              "4            1        2021-01-01 2021-01-05\n",
              "5            1        2021-01-01 2021-01-07\n",
              "...        ...               ...        ...\n",
              "20726     1000        2021-12-07 2021-12-25\n",
              "20728     1000        2021-12-07 2021-12-26\n",
              "20730     1000        2021-12-07 2021-12-28\n",
              "20731     1000        2021-12-07 2021-12-29\n",
              "20732     1000        2021-12-07 2021-12-30\n",
              "\n",
              "[14804 rows x 3 columns]"
            ],
            "text/html": [
              "\n",
              "  <div id=\"df-c3e3b3de-0162-48bc-9059-a73ce430e615\" class=\"colab-df-container\">\n",
              "    <div>\n",
              "<style scoped>\n",
              "    .dataframe tbody tr th:only-of-type {\n",
              "        vertical-align: middle;\n",
              "    }\n",
              "\n",
              "    .dataframe tbody tr th {\n",
              "        vertical-align: top;\n",
              "    }\n",
              "\n",
              "    .dataframe thead th {\n",
              "        text-align: right;\n",
              "    }\n",
              "</style>\n",
              "<table border=\"1\" class=\"dataframe\">\n",
              "  <thead>\n",
              "    <tr style=\"text-align: right;\">\n",
              "      <th></th>\n",
              "      <th>user_id</th>\n",
              "      <th>registration_date</th>\n",
              "      <th>entry_date</th>\n",
              "    </tr>\n",
              "  </thead>\n",
              "  <tbody>\n",
              "    <tr>\n",
              "      <th>0</th>\n",
              "      <td>1</td>\n",
              "      <td>2021-01-01</td>\n",
              "      <td>2021-01-01</td>\n",
              "    </tr>\n",
              "    <tr>\n",
              "      <th>1</th>\n",
              "      <td>1</td>\n",
              "      <td>2021-01-01</td>\n",
              "      <td>2021-01-03</td>\n",
              "    </tr>\n",
              "    <tr>\n",
              "      <th>2</th>\n",
              "      <td>1</td>\n",
              "      <td>2021-01-01</td>\n",
              "      <td>2021-01-04</td>\n",
              "    </tr>\n",
              "    <tr>\n",
              "      <th>4</th>\n",
              "      <td>1</td>\n",
              "      <td>2021-01-01</td>\n",
              "      <td>2021-01-05</td>\n",
              "    </tr>\n",
              "    <tr>\n",
              "      <th>5</th>\n",
              "      <td>1</td>\n",
              "      <td>2021-01-01</td>\n",
              "      <td>2021-01-07</td>\n",
              "    </tr>\n",
              "    <tr>\n",
              "      <th>...</th>\n",
              "      <td>...</td>\n",
              "      <td>...</td>\n",
              "      <td>...</td>\n",
              "    </tr>\n",
              "    <tr>\n",
              "      <th>20726</th>\n",
              "      <td>1000</td>\n",
              "      <td>2021-12-07</td>\n",
              "      <td>2021-12-25</td>\n",
              "    </tr>\n",
              "    <tr>\n",
              "      <th>20728</th>\n",
              "      <td>1000</td>\n",
              "      <td>2021-12-07</td>\n",
              "      <td>2021-12-26</td>\n",
              "    </tr>\n",
              "    <tr>\n",
              "      <th>20730</th>\n",
              "      <td>1000</td>\n",
              "      <td>2021-12-07</td>\n",
              "      <td>2021-12-28</td>\n",
              "    </tr>\n",
              "    <tr>\n",
              "      <th>20731</th>\n",
              "      <td>1000</td>\n",
              "      <td>2021-12-07</td>\n",
              "      <td>2021-12-29</td>\n",
              "    </tr>\n",
              "    <tr>\n",
              "      <th>20732</th>\n",
              "      <td>1000</td>\n",
              "      <td>2021-12-07</td>\n",
              "      <td>2021-12-30</td>\n",
              "    </tr>\n",
              "  </tbody>\n",
              "</table>\n",
              "<p>14804 rows × 3 columns</p>\n",
              "</div>\n",
              "    <div class=\"colab-df-buttons\">\n",
              "\n",
              "  <div class=\"colab-df-container\">\n",
              "    <button class=\"colab-df-convert\" onclick=\"convertToInteractive('df-c3e3b3de-0162-48bc-9059-a73ce430e615')\"\n",
              "            title=\"Convert this dataframe to an interactive table.\"\n",
              "            style=\"display:none;\">\n",
              "\n",
              "  <svg xmlns=\"http://www.w3.org/2000/svg\" height=\"24px\" viewBox=\"0 -960 960 960\">\n",
              "    <path d=\"M120-120v-720h720v720H120Zm60-500h600v-160H180v160Zm220 220h160v-160H400v160Zm0 220h160v-160H400v160ZM180-400h160v-160H180v160Zm440 0h160v-160H620v160ZM180-180h160v-160H180v160Zm440 0h160v-160H620v160Z\"/>\n",
              "  </svg>\n",
              "    </button>\n",
              "\n",
              "  <style>\n",
              "    .colab-df-container {\n",
              "      display:flex;\n",
              "      gap: 12px;\n",
              "    }\n",
              "\n",
              "    .colab-df-convert {\n",
              "      background-color: #E8F0FE;\n",
              "      border: none;\n",
              "      border-radius: 50%;\n",
              "      cursor: pointer;\n",
              "      display: none;\n",
              "      fill: #1967D2;\n",
              "      height: 32px;\n",
              "      padding: 0 0 0 0;\n",
              "      width: 32px;\n",
              "    }\n",
              "\n",
              "    .colab-df-convert:hover {\n",
              "      background-color: #E2EBFA;\n",
              "      box-shadow: 0px 1px 2px rgba(60, 64, 67, 0.3), 0px 1px 3px 1px rgba(60, 64, 67, 0.15);\n",
              "      fill: #174EA6;\n",
              "    }\n",
              "\n",
              "    .colab-df-buttons div {\n",
              "      margin-bottom: 4px;\n",
              "    }\n",
              "\n",
              "    [theme=dark] .colab-df-convert {\n",
              "      background-color: #3B4455;\n",
              "      fill: #D2E3FC;\n",
              "    }\n",
              "\n",
              "    [theme=dark] .colab-df-convert:hover {\n",
              "      background-color: #434B5C;\n",
              "      box-shadow: 0px 1px 3px 1px rgba(0, 0, 0, 0.15);\n",
              "      filter: drop-shadow(0px 1px 2px rgba(0, 0, 0, 0.3));\n",
              "      fill: #FFFFFF;\n",
              "    }\n",
              "  </style>\n",
              "\n",
              "    <script>\n",
              "      const buttonEl =\n",
              "        document.querySelector('#df-c3e3b3de-0162-48bc-9059-a73ce430e615 button.colab-df-convert');\n",
              "      buttonEl.style.display =\n",
              "        google.colab.kernel.accessAllowed ? 'block' : 'none';\n",
              "\n",
              "      async function convertToInteractive(key) {\n",
              "        const element = document.querySelector('#df-c3e3b3de-0162-48bc-9059-a73ce430e615');\n",
              "        const dataTable =\n",
              "          await google.colab.kernel.invokeFunction('convertToInteractive',\n",
              "                                                    [key], {});\n",
              "        if (!dataTable) return;\n",
              "\n",
              "        const docLinkHtml = 'Like what you see? Visit the ' +\n",
              "          '<a target=\"_blank\" href=https://colab.research.google.com/notebooks/data_table.ipynb>data table notebook</a>'\n",
              "          + ' to learn more about interactive tables.';\n",
              "        element.innerHTML = '';\n",
              "        dataTable['output_type'] = 'display_data';\n",
              "        await google.colab.output.renderOutput(dataTable, element);\n",
              "        const docLink = document.createElement('div');\n",
              "        docLink.innerHTML = docLinkHtml;\n",
              "        element.appendChild(docLink);\n",
              "      }\n",
              "    </script>\n",
              "  </div>\n",
              "\n",
              "\n",
              "<div id=\"df-1c217e79-9e48-4be8-8595-2ae62cc4c2c2\">\n",
              "  <button class=\"colab-df-quickchart\" onclick=\"quickchart('df-1c217e79-9e48-4be8-8595-2ae62cc4c2c2')\"\n",
              "            title=\"Suggest charts\"\n",
              "            style=\"display:none;\">\n",
              "\n",
              "<svg xmlns=\"http://www.w3.org/2000/svg\" height=\"24px\"viewBox=\"0 0 24 24\"\n",
              "     width=\"24px\">\n",
              "    <g>\n",
              "        <path d=\"M19 3H5c-1.1 0-2 .9-2 2v14c0 1.1.9 2 2 2h14c1.1 0 2-.9 2-2V5c0-1.1-.9-2-2-2zM9 17H7v-7h2v7zm4 0h-2V7h2v10zm4 0h-2v-4h2v4z\"/>\n",
              "    </g>\n",
              "</svg>\n",
              "  </button>\n",
              "\n",
              "<style>\n",
              "  .colab-df-quickchart {\n",
              "      --bg-color: #E8F0FE;\n",
              "      --fill-color: #1967D2;\n",
              "      --hover-bg-color: #E2EBFA;\n",
              "      --hover-fill-color: #174EA6;\n",
              "      --disabled-fill-color: #AAA;\n",
              "      --disabled-bg-color: #DDD;\n",
              "  }\n",
              "\n",
              "  [theme=dark] .colab-df-quickchart {\n",
              "      --bg-color: #3B4455;\n",
              "      --fill-color: #D2E3FC;\n",
              "      --hover-bg-color: #434B5C;\n",
              "      --hover-fill-color: #FFFFFF;\n",
              "      --disabled-bg-color: #3B4455;\n",
              "      --disabled-fill-color: #666;\n",
              "  }\n",
              "\n",
              "  .colab-df-quickchart {\n",
              "    background-color: var(--bg-color);\n",
              "    border: none;\n",
              "    border-radius: 50%;\n",
              "    cursor: pointer;\n",
              "    display: none;\n",
              "    fill: var(--fill-color);\n",
              "    height: 32px;\n",
              "    padding: 0;\n",
              "    width: 32px;\n",
              "  }\n",
              "\n",
              "  .colab-df-quickchart:hover {\n",
              "    background-color: var(--hover-bg-color);\n",
              "    box-shadow: 0 1px 2px rgba(60, 64, 67, 0.3), 0 1px 3px 1px rgba(60, 64, 67, 0.15);\n",
              "    fill: var(--button-hover-fill-color);\n",
              "  }\n",
              "\n",
              "  .colab-df-quickchart-complete:disabled,\n",
              "  .colab-df-quickchart-complete:disabled:hover {\n",
              "    background-color: var(--disabled-bg-color);\n",
              "    fill: var(--disabled-fill-color);\n",
              "    box-shadow: none;\n",
              "  }\n",
              "\n",
              "  .colab-df-spinner {\n",
              "    border: 2px solid var(--fill-color);\n",
              "    border-color: transparent;\n",
              "    border-bottom-color: var(--fill-color);\n",
              "    animation:\n",
              "      spin 1s steps(1) infinite;\n",
              "  }\n",
              "\n",
              "  @keyframes spin {\n",
              "    0% {\n",
              "      border-color: transparent;\n",
              "      border-bottom-color: var(--fill-color);\n",
              "      border-left-color: var(--fill-color);\n",
              "    }\n",
              "    20% {\n",
              "      border-color: transparent;\n",
              "      border-left-color: var(--fill-color);\n",
              "      border-top-color: var(--fill-color);\n",
              "    }\n",
              "    30% {\n",
              "      border-color: transparent;\n",
              "      border-left-color: var(--fill-color);\n",
              "      border-top-color: var(--fill-color);\n",
              "      border-right-color: var(--fill-color);\n",
              "    }\n",
              "    40% {\n",
              "      border-color: transparent;\n",
              "      border-right-color: var(--fill-color);\n",
              "      border-top-color: var(--fill-color);\n",
              "    }\n",
              "    60% {\n",
              "      border-color: transparent;\n",
              "      border-right-color: var(--fill-color);\n",
              "    }\n",
              "    80% {\n",
              "      border-color: transparent;\n",
              "      border-right-color: var(--fill-color);\n",
              "      border-bottom-color: var(--fill-color);\n",
              "    }\n",
              "    90% {\n",
              "      border-color: transparent;\n",
              "      border-bottom-color: var(--fill-color);\n",
              "    }\n",
              "  }\n",
              "</style>\n",
              "\n",
              "  <script>\n",
              "    async function quickchart(key) {\n",
              "      const quickchartButtonEl =\n",
              "        document.querySelector('#' + key + ' button');\n",
              "      quickchartButtonEl.disabled = true;  // To prevent multiple clicks.\n",
              "      quickchartButtonEl.classList.add('colab-df-spinner');\n",
              "      try {\n",
              "        const charts = await google.colab.kernel.invokeFunction(\n",
              "            'suggestCharts', [key], {});\n",
              "      } catch (error) {\n",
              "        console.error('Error during call to suggestCharts:', error);\n",
              "      }\n",
              "      quickchartButtonEl.classList.remove('colab-df-spinner');\n",
              "      quickchartButtonEl.classList.add('colab-df-quickchart-complete');\n",
              "    }\n",
              "    (() => {\n",
              "      let quickchartButtonEl =\n",
              "        document.querySelector('#df-1c217e79-9e48-4be8-8595-2ae62cc4c2c2 button');\n",
              "      quickchartButtonEl.style.display =\n",
              "        google.colab.kernel.accessAllowed ? 'block' : 'none';\n",
              "    })();\n",
              "  </script>\n",
              "</div>\n",
              "    </div>\n",
              "  </div>\n"
            ],
            "application/vnd.google.colaboratory.intrinsic+json": {
              "type": "dataframe",
              "variable_name": "data",
              "summary": "{\n  \"name\": \"data\",\n  \"rows\": 14804,\n  \"fields\": [\n    {\n      \"column\": \"user_id\",\n      \"properties\": {\n        \"dtype\": \"number\",\n        \"std\": 287,\n        \"min\": 1,\n        \"max\": 1000,\n        \"num_unique_values\": 1000,\n        \"samples\": [\n          522,\n          738,\n          741\n        ],\n        \"semantic_type\": \"\",\n        \"description\": \"\"\n      }\n    },\n    {\n      \"column\": \"registration_date\",\n      \"properties\": {\n        \"dtype\": \"date\",\n        \"min\": \"2021-01-01 00:00:00\",\n        \"max\": \"2021-12-07 00:00:00\",\n        \"num_unique_values\": 112,\n        \"samples\": [\n          \"2021-04-11 00:00:00\",\n          \"2021-07-05 00:00:00\",\n          \"2021-01-05 00:00:00\"\n        ],\n        \"semantic_type\": \"\",\n        \"description\": \"\"\n      }\n    },\n    {\n      \"column\": \"entry_date\",\n      \"properties\": {\n        \"dtype\": \"date\",\n        \"min\": \"2021-01-01 00:00:00\",\n        \"max\": \"2021-12-31 00:00:00\",\n        \"num_unique_values\": 365,\n        \"samples\": [\n          \"2021-07-18 00:00:00\",\n          \"2021-02-04 00:00:00\",\n          \"2021-01-25 00:00:00\"\n        ],\n        \"semantic_type\": \"\",\n        \"description\": \"\"\n      }\n    }\n  ]\n}"
            }
          },
          "metadata": {},
          "execution_count": 210
        }
      ]
    },
    {
      "cell_type": "code",
      "source": [
        "# напишем функцию для расчета retention произвольного дня\n",
        "def n_day_retention(data:pd.DataFrame, n:int) -> float:\n",
        "    df = data.copy()\n",
        "    # Calculate the n-th day after registration\n",
        "    df['n_day'] = df['registration_date'] + pd.DateOffset(days=n)\n",
        "    # Mark active users if they have an entry on the n-th day\n",
        "    df['active'] = (df[\"entry_date\"] == df['n_day'])\n",
        "    # Drop dublicates when users enter more than once per day\n",
        "    df.drop_duplicates(inplace=True)\n",
        "    # Filter registration dates where there is no info on n-th day\n",
        "    df = df[df['registration_date'] <= df['entry_date'].max() - pd.Timedelta(days=n)]\n",
        "    # Filter out rows where last the entry_date is before the n-th day window\n",
        "    result = df.groupby('registration_date', as_index=False).agg({\"user_id\": \"nunique\", \"active\": \"sum\"})\n",
        "    return result['active'].sum() / result['user_id'].sum()"
      ],
      "metadata": {
        "id": "UdB-W66Kn5RL"
      },
      "execution_count": null,
      "outputs": []
    },
    {
      "cell_type": "code",
      "source": [
        "# расчитаем средний retention каждого из  365 дней для всех пользователей\n",
        "retentions = np.array([1,]+[n_day_retention(data, i) for i in range(1, 365)])"
      ],
      "metadata": {
        "id": "guoBUKjFo79A"
      },
      "execution_count": null,
      "outputs": []
    },
    {
      "cell_type": "code",
      "source": [
        "# посмотрим, до какого дня retention был больше 0\n",
        "retention_max_day = max(*np.where(retentions > 0))"
      ],
      "metadata": {
        "id": "KmYlvOsDqg1f"
      },
      "execution_count": null,
      "outputs": []
    },
    {
      "cell_type": "code",
      "source": [
        "# для ненудевых значений retention построим график и покажем AUC c 1 дня\n",
        "graph = sns.lineplot(x=range(0, retention_max_day), y=retentions[:retention_max_day], drawstyle='steps-post')\n",
        "graph.set(xlabel =\"Days\", ylabel = \"Retention\", title ='All users n-day retention')\n",
        "graph.fill_between(x=range(1, retention_max_day), y1=retentions[1:retention_max_day], step='post', alpha=0.3)\n",
        "plt.text(5, 0.2, 'Area under curve (AUC) = Liftetime');"
      ],
      "metadata": {
        "id": "AwsKV8byptmY",
        "outputId": "263efd57-33c5-4edd-cf8d-303d19e2fa15",
        "colab": {
          "base_uri": "https://localhost:8080/",
          "height": 472
        }
      },
      "execution_count": null,
      "outputs": [
        {
          "output_type": "display_data",
          "data": {
            "text/plain": [
              "<Figure size 640x480 with 1 Axes>"
            ],
            "image/png": "[encoded data removed]"
          },
          "metadata": {}
        }
      ]
    },
    {
      "cell_type": "markdown",
      "source": [
        "Cчитаем, что каждый отрезок имеет длину по оси x равную 1. Площадь под каждым отрезком равна произведению значения y на длину отрезка по оси x."
      ],
      "metadata": {
        "id": "AWW4S7M9G4Z8"
      }
    },
    {
      "cell_type": "code",
      "source": [
        "print(f'Lifetime = {sum(retentions):.2f} days')"
      ],
      "metadata": {
        "id": "Uxta0fJcs_dL",
        "outputId": "6a98c8e8-b635-4d79-a423-713c650a4597",
        "colab": {
          "base_uri": "https://localhost:8080/"
        }
      },
      "execution_count": null,
      "outputs": [
        {
          "output_type": "stream",
          "name": "stdout",
          "text": [
            "Lifetime = 14.83 days\n"
          ]
        }
      ]
    },
    {
      "cell_type": "markdown",
      "source": [
        "<a name='churn'></a>\n",
        "### 4 Посчитаем Churn rate 29 дня (в долях), посчитанный по всем пользователям"
      ],
      "metadata": {
        "id": "OrwoZ-wR0jJq"
      }
    },
    {
      "cell_type": "code",
      "source": [
        "# объединим таблицы с данными о регистрации и активности пользователей и удалим дубликаты (случай, пользователь был активен несколо раз в течение дня)\n",
        "df_registrations = pd.read_csv('registrations.csv', sep=';', parse_dates=['registration_date'], index_col='user_id')\n",
        "df_entries = pd.read_csv('entries.csv', sep=';', parse_dates=['entry_date'], index_col='user_id')\n",
        "data = df_registrations.join(df_entries, how='left')\n",
        "data.reset_index(inplace=True)\n",
        "data.drop_duplicates(inplace=True)"
      ],
      "metadata": {
        "id": "MQVtWCYf3FV4"
      },
      "execution_count": null,
      "outputs": []
    },
    {
      "cell_type": "code",
      "source": [
        "df = data.copy()\n",
        "# Вычисляем последний день активности пользователя\n",
        "df = df.merge(df.groupby('user_id')['entry_date'].max().rename(\"last_activity_date\"), on='user_id')\n",
        "\n",
        "# Вычисляем 29-й день для каждого пользователя\n",
        "df['day_29'] = df['registration_date'] + pd.Timedelta(days=29)\n",
        "\n",
        "# Отбираем пользователей, зарегистрированных более 29 дней назад от последней даты в датасете\n",
        "df_29_days = df[df['registration_date'] <= df['entry_date'].max() - pd.Timedelta(days=29)].copy()\n",
        "\n",
        "# Проверяем, кто ушел в отток до 29-го дня\n",
        "df_29_days['churned'] = df_29_days['last_activity_date'] < df_29_days['day_29']\n",
        "\n",
        "# Рассчитываем churn rate\n",
        "churn_rate = df_29_days.drop_duplicates(subset=['user_id'])['churned'].mean()\n",
        "\n",
        "print(f\"Churn rate на 29-й день: {churn_rate:.3f}\")\n"
      ],
      "metadata": {
        "colab": {
          "base_uri": "https://localhost:8080/"
        },
        "id": "obZyuCQPk_Os",
        "outputId": "836ad6d5-6f83-432c-bdbf-fc50f78d1a28"
      },
      "execution_count": null,
      "outputs": [
        {
          "output_type": "stream",
          "name": "stdout",
          "text": [
            "Churn rate на 29-й день: 0.498\n"
          ]
        }
      ]
    },
    {
      "cell_type": "markdown",
      "source": [
        "<a name='mau'></a><a name='wau'></a><a name='dau'></a>\n",
        "### 5 Посчитаем Mau, Wau, Dau за последний месяц/неделю/день записей\n",
        "\n",
        "**Примечание:** последний месяц записей - декабрь. Поэтому `mau` рассчитываем для декабря (2021 года), для `wau` берем последнюю неделю - с 25 по 31 декабря, и для `dau` соответственно последний день - 31 декабря."
      ],
      "metadata": {
        "id": "QuO3ZwRI5mdH"
      }
    },
    {
      "cell_type": "code",
      "source": [
        "df_entries = pd.read_csv('entries.csv', sep=';', parse_dates=['entry_date'])"
      ],
      "metadata": {
        "id": "HxGWkaSp5kpo"
      },
      "execution_count": null,
      "outputs": []
    },
    {
      "cell_type": "code",
      "source": [
        "dec_mau = df_entries[df_entries['entry_date'] > (df_entries.entry_date.max() - pd.DateOffset(months=1))].user_id.nunique()\n",
        "print(f'MAU = {dec_mau}')"
      ],
      "metadata": {
        "id": "VDMP3sCQCZaE",
        "colab": {
          "base_uri": "https://localhost:8080/"
        },
        "outputId": "d51e7476-6f8b-4ffe-a29a-6c9b07315b11"
      },
      "execution_count": null,
      "outputs": [
        {
          "output_type": "stream",
          "name": "stdout",
          "text": [
            "MAU = 133\n"
          ]
        }
      ]
    },
    {
      "cell_type": "code",
      "source": [
        "dec_wau = df_entries[df_entries['entry_date'] > (df_entries.entry_date.max() - pd.DateOffset(weeks=1))].user_id.nunique()\n",
        "print(f'WAU = {dec_wau}')"
      ],
      "metadata": {
        "id": "urEWcCuk522y",
        "colab": {
          "base_uri": "https://localhost:8080/"
        },
        "outputId": "97d5d3fb-e93c-404c-a75c-2b1ad925f87d"
      },
      "execution_count": null,
      "outputs": [
        {
          "output_type": "stream",
          "name": "stdout",
          "text": [
            "DAU = 84\n"
          ]
        }
      ]
    },
    {
      "cell_type": "code",
      "source": [
        "dec_dau = df_entries[df_entries['entry_date'] > (df_entries.entry_date.max() - pd.DateOffset(days=1))].user_id.nunique()\n",
        "print(f'DAU = {dec_dau}')"
      ],
      "metadata": {
        "id": "hv7Nz3TN59Ds",
        "colab": {
          "base_uri": "https://localhost:8080/"
        },
        "outputId": "95325b78-a512-43fc-be4c-f41b1ee20c4a"
      },
      "execution_count": null,
      "outputs": [
        {
          "output_type": "stream",
          "name": "stdout",
          "text": [
            "DAU = 47\n"
          ]
        }
      ]
    },
    {
      "cell_type": "markdown",
      "source": [
        "### Посчитаем Mau, Wau, Dau усредненные"
      ],
      "metadata": {
        "id": "gzElxXgv6Dyr"
      }
    },
    {
      "cell_type": "code",
      "source": [
        "avg_mau = df_entries.groupby(df_entries.entry_date.dt.month).user_id.nunique().mean()\n",
        "print(f'avg MAU = {avg_mau:.3f}')"
      ],
      "metadata": {
        "id": "mUDYPPqx6RPr",
        "colab": {
          "base_uri": "https://localhost:8080/"
        },
        "outputId": "ddca47c9-c890-40c7-c3d4-185e6dd981c4"
      },
      "execution_count": null,
      "outputs": [
        {
          "output_type": "stream",
          "name": "stdout",
          "text": [
            "avg MAU = 102.583\n"
          ]
        }
      ]
    },
    {
      "cell_type": "code",
      "source": [
        "avg_wau = df_entries.resample('W-SUN', on='entry_date').user_id.nunique().mean()\n",
        "print(f'avg WAU = {avg_wau:.3f}')"
      ],
      "metadata": {
        "id": "WydV9g9C6x7O",
        "colab": {
          "base_uri": "https://localhost:8080/"
        },
        "outputId": "bdaef04f-94d7-4fa1-e2df-d3822e0145e9"
      },
      "execution_count": null,
      "outputs": [
        {
          "output_type": "stream",
          "name": "stdout",
          "text": [
            "avg WAU = 89.868\n"
          ]
        }
      ]
    },
    {
      "cell_type": "code",
      "source": [
        "avg_dau = df_entries.groupby(df_entries.entry_date.dt.date).user_id.nunique().mean()\n",
        "print(f'avg DAU = {avg_dau:.3f}')"
      ],
      "metadata": {
        "id": "NgqOR38d64_T",
        "colab": {
          "base_uri": "https://localhost:8080/"
        },
        "outputId": "43544c13-e7cf-4c94-cdef-f2d2473f7f3d"
      },
      "execution_count": null,
      "outputs": [
        {
          "output_type": "stream",
          "name": "stdout",
          "text": [
            "avg DAU = 40.559\n"
          ]
        }
      ]
    },
    {
      "cell_type": "code",
      "source": [],
      "metadata": {
        "id": "384DGVhPHbTz"
      },
      "execution_count": null,
      "outputs": []
    }
  ]
}